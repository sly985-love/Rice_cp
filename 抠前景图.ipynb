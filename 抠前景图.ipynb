{
 "cells": [
  {
   "cell_type": "code",
   "execution_count": 6,
   "metadata": {},
   "outputs": [],
   "source": [
    "from PIL import Image\n",
    "import cv2\n",
    "from pathlib import Path\n",
    "import numpy as np\n",
    "\n",
    "%matplotlib inline\n",
    "root = Path(\"D:\\水稻数据\\cp增强后的数据集\\\\all\\label\")\n",
    "wai_root = Path('D:\\水稻数据\\水稻病害\\东格鲁病')\n",
    "path_list = [path for path in root.iterdir()]\n",
    "img_path = root / 'new'\n",
    "if not img_path.exists():\n",
    "    img_path.mkdir()"
   ]
  },
  {
   "cell_type": "code",
   "execution_count": 16,
   "metadata": {},
   "outputs": [],
   "source": [
    "# 单张图片测试\n",
    "img_path = Path('.\\\\brownspot_orig_002.jpg')\n",
    "\n",
    "seg_path = Path('.\\\\brownspot_orig_002.png')\n",
    "image = Image.open(img_path, mode='r')\n",
    "image = image.convert(mode='RGB')\n",
    "segim = Image.open(seg_path)\n",
    "h = segim.height\n",
    "w = segim.width\n",
    "image = np.array(image)\n",
    "segim = np.array(segim)\n",
    "for i in range(0, w):\n",
    "    for j in range(0,h):\n",
    "        if segim[i][j] == 0:\n",
    "            image[i][j] = [0,0,0]\n",
    "        else:\n",
    "            continue\n",
    "img_pil = Image.fromarray(image)\n",
    "img_pil.save('./result.jpg')"
   ]
  },
  {
   "cell_type": "code",
   "execution_count": 32,
   "metadata": {},
   "outputs": [
    {
     "ename": "FileNotFoundError",
     "evalue": "[WinError 3] 系统找不到指定的路径。: 'D:\\\\yesy\\\\three_datasets\\\\voc_annotation.py\\\\AOP'",
     "output_type": "error",
     "traceback": [
      "\u001b[1;31m---------------------------------------------------------------------------\u001b[0m",
      "\u001b[1;31mFileNotFoundError\u001b[0m                         Traceback (most recent call last)",
      "\u001b[1;32m~\\AppData\\Local\\Temp\\ipykernel_25512\\3708062465.py\u001b[0m in \u001b[0;36m<module>\u001b[1;34m\u001b[0m\n\u001b[0;32m     10\u001b[0m         \u001b[0mnew_root\u001b[0m \u001b[1;33m=\u001b[0m \u001b[0mroot\u001b[0m \u001b[1;33m/\u001b[0m \u001b[1;34m'AOP'\u001b[0m\u001b[1;33m\u001b[0m\u001b[1;33m\u001b[0m\u001b[0m\n\u001b[0;32m     11\u001b[0m         \u001b[1;32mif\u001b[0m \u001b[1;32mnot\u001b[0m \u001b[0mnew_root\u001b[0m\u001b[1;33m.\u001b[0m\u001b[0mexists\u001b[0m\u001b[1;33m(\u001b[0m\u001b[1;33m)\u001b[0m\u001b[1;33m:\u001b[0m\u001b[1;33m\u001b[0m\u001b[1;33m\u001b[0m\u001b[0m\n\u001b[1;32m---> 12\u001b[1;33m             \u001b[0mnew_root\u001b[0m\u001b[1;33m.\u001b[0m\u001b[0mmkdir\u001b[0m\u001b[1;33m(\u001b[0m\u001b[1;33m)\u001b[0m\u001b[1;33m\u001b[0m\u001b[1;33m\u001b[0m\u001b[0m\n\u001b[0m\u001b[0;32m     13\u001b[0m         \u001b[1;31m# jpg_list = [path for path in jpg_root.iterdir()]\u001b[0m\u001b[1;33m\u001b[0m\u001b[1;33m\u001b[0m\u001b[1;33m\u001b[0m\u001b[0m\n\u001b[0;32m     14\u001b[0m         \u001b[0mseg_list\u001b[0m \u001b[1;33m=\u001b[0m \u001b[1;33m[\u001b[0m\u001b[0mpath\u001b[0m \u001b[1;32mfor\u001b[0m \u001b[0mpath\u001b[0m \u001b[1;32min\u001b[0m \u001b[0mseg_root\u001b[0m\u001b[1;33m.\u001b[0m\u001b[0miterdir\u001b[0m\u001b[1;33m(\u001b[0m\u001b[1;33m)\u001b[0m\u001b[1;33m]\u001b[0m\u001b[1;33m\u001b[0m\u001b[1;33m\u001b[0m\u001b[0m\n",
      "\u001b[1;32mD:\\ProgramData\\Anaconda3\\envs\\npy37\\lib\\pathlib.py\u001b[0m in \u001b[0;36mmkdir\u001b[1;34m(self, mode, parents, exist_ok)\u001b[0m\n\u001b[0;32m   1271\u001b[0m             \u001b[0mself\u001b[0m\u001b[1;33m.\u001b[0m\u001b[0m_raise_closed\u001b[0m\u001b[1;33m(\u001b[0m\u001b[1;33m)\u001b[0m\u001b[1;33m\u001b[0m\u001b[1;33m\u001b[0m\u001b[0m\n\u001b[0;32m   1272\u001b[0m         \u001b[1;32mtry\u001b[0m\u001b[1;33m:\u001b[0m\u001b[1;33m\u001b[0m\u001b[1;33m\u001b[0m\u001b[0m\n\u001b[1;32m-> 1273\u001b[1;33m             \u001b[0mself\u001b[0m\u001b[1;33m.\u001b[0m\u001b[0m_accessor\u001b[0m\u001b[1;33m.\u001b[0m\u001b[0mmkdir\u001b[0m\u001b[1;33m(\u001b[0m\u001b[0mself\u001b[0m\u001b[1;33m,\u001b[0m \u001b[0mmode\u001b[0m\u001b[1;33m)\u001b[0m\u001b[1;33m\u001b[0m\u001b[1;33m\u001b[0m\u001b[0m\n\u001b[0m\u001b[0;32m   1274\u001b[0m         \u001b[1;32mexcept\u001b[0m \u001b[0mFileNotFoundError\u001b[0m\u001b[1;33m:\u001b[0m\u001b[1;33m\u001b[0m\u001b[1;33m\u001b[0m\u001b[0m\n\u001b[0;32m   1275\u001b[0m             \u001b[1;32mif\u001b[0m \u001b[1;32mnot\u001b[0m \u001b[0mparents\u001b[0m \u001b[1;32mor\u001b[0m \u001b[0mself\u001b[0m\u001b[1;33m.\u001b[0m\u001b[0mparent\u001b[0m \u001b[1;33m==\u001b[0m \u001b[0mself\u001b[0m\u001b[1;33m:\u001b[0m\u001b[1;33m\u001b[0m\u001b[1;33m\u001b[0m\u001b[0m\n",
      "\u001b[1;31mFileNotFoundError\u001b[0m: [WinError 3] 系统找不到指定的路径。: 'D:\\\\yesy\\\\three_datasets\\\\voc_annotation.py\\\\AOP'"
     ]
    }
   ],
   "source": [
    "rootgen = Path('D:\\yesy\\\\three_datasets')\n",
    "roots = [path for path in rootgen.iterdir()]\n",
    "# root = Path('D:\\yesy\\\\four_datasets\\datasets-ori')\n",
    "for root in roots:\n",
    "    if not root.is_dir:\n",
    "        continue\n",
    "    else:\n",
    "        jpg_root = root / 'JPEGImages'\n",
    "        seg_root = root / 'SegmentationClass'\n",
    "        new_root = root / 'AOP'\n",
    "        if not new_root.exists():\n",
    "            new_root.mkdir()\n",
    "        # jpg_list = [path for path in jpg_root.iterdir()]\n",
    "        seg_list = [path for path in seg_root.iterdir()]\n",
    "        for seg_path in seg_list:\n",
    "            jpg_path = jpg_root / (seg_path.stem + '.jpg')\n",
    "            new_jpg = new_root / (seg_path.stem + '.jpg')\n",
    "            segim = Image.open(seg_path)\n",
    "            image = Image.open(jpg_path)\n",
    "            w, h = image.size\n",
    "            image = image.convert(mode='RGB')\n",
    "            h = segim.height\n",
    "            w = segim.width\n",
    "            image = np.array(image)\n",
    "            segim = np.array(segim)\n",
    "            for i in range(0, w):\n",
    "                for j in range(0, h):\n",
    "                    if segim[j][i] == 0:\n",
    "                        image[j][i] = [0,0,0]\n",
    "                    else:\n",
    "                        continue\n",
    "            img_pil = Image.fromarray(image)\n",
    "            \n",
    "            img_pil.save(new_jpg)\n"
   ]
  },
  {
   "cell_type": "code",
   "execution_count": 34,
   "metadata": {},
   "outputs": [
    {
     "data": {
      "text/plain": [
       "'10.2'"
      ]
     },
     "execution_count": 34,
     "metadata": {},
     "output_type": "execute_result"
    }
   ],
   "source": [
    "0 \n",
    " 0.15869140625 \n",
    "0.3389458272327965\n",
    " 0.0322265625\n",
    "  0.048316251830161056 \n",
    "  -0.0009765625 \n",
    "  -0.0014641288433382138\n",
    "   -0.0009765625\n",
    "    -0.0014641288433382138\n",
    "     -0.0009765625 \n",
    "     -0.0014641288433382138 \n",
    "     -0.0009765625 \n",
    "     -0.0014641288433382138 \n",
    "     -0.0009765625 \n",
    "     -0.0014641288433382138\n"
   ]
  }
 ],
 "metadata": {
  "interpreter": {
   "hash": "358f92a35a8116bdf89bd945bf9153f3451a570630a765353f3236e90f29e585"
  },
  "kernelspec": {
   "display_name": "Python 3.7.13 ('npy37')",
   "language": "python",
   "name": "python3"
  },
  "language_info": {
   "codemirror_mode": {
    "name": "ipython",
    "version": 3
   },
   "file_extension": ".py",
   "mimetype": "text/x-python",
   "name": "python",
   "nbconvert_exporter": "python",
   "pygments_lexer": "ipython3",
   "version": "3.7.13"
  },
  "orig_nbformat": 4
 },
 "nbformat": 4,
 "nbformat_minor": 2
}
