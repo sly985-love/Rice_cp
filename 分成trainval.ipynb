{
 "cells": [
  {
   "cell_type": "code",
   "execution_count": 24,
   "metadata": {},
   "outputs": [],
   "source": [
    "from pathlib import Path\n",
    "import shutil\n",
    "root_root = Path('D:\\yesy\\\\three_datasets')\n",
    "root_list = [path for path in root_root.iterdir()]\n",
    "\n",
    "\n"
   ]
  },
  {
   "cell_type": "code",
   "execution_count": 26,
   "metadata": {},
   "outputs": [],
   "source": [
    "for root in root_list:\n",
    "    if root.is_dir():\n",
    "        txt_root = root / 'Segmentation'\n",
    "        jeg_root = root / 'JPEGImages'\n",
    "        seg_root = root / 'SegmentationClass'\n",
    "        txt_list = [path for path in txt_root.iterdir()]\n",
    "\n",
    "        for txt_path in txt_list:\n",
    "            if txt_path.stem != 'trainval':\n",
    "                # new_path = root / txt_path.stem\n",
    "                # if not new_path.exists():\n",
    "                #     new_path.mkdir()\n",
    "                f = open(txt_path, 'r')\n",
    "                name_list = f.readlines()\n",
    "                for name in name_list:\n",
    "                    name = name[:-1]\n",
    "                    new_img_path = root / 'images' / txt_path.stem\n",
    "                    new_seg_path = root / 'labels' / txt_path.stem\n",
    "                    if not new_img_path.exists():\n",
    "                        new_img_path.mkdir(parents=True)\n",
    "                    if not new_seg_path.exists():\n",
    "                        new_seg_path.mkdir(parents=True)\n",
    "                    jeg_path = jeg_root / (name + '.jpg')\n",
    "                    seg_path = seg_root / (name + '.png')\n",
    "                    shutil.copy(str(jeg_path),str(new_img_path))\n",
    "                    shutil.copy(str(seg_path),str(new_seg_path))"
   ]
  },
  {
   "cell_type": "code",
   "execution_count": 29,
   "metadata": {},
   "outputs": [],
   "source": [
    "a = '0 0.671279 0.617945 0.645759 0.726859 0.519751 0.381250 2.000000 0.550936 0.348438 2.000000 0.488565 0.367188 2.000000 0.642412 0.354687 2.000000 0.488565 0.395313 2.000000 0.738046 0.526563 2.000000 0.446985 0.534375 2.000000 0.846154 0.771875 2.000000 0.442827 0.812500 2.000000 0.925156 0.964063 2.000000 0.507277 0.698438 2.000000 0.702703 0.942187 2.000000 0.555094 0.950000 2.000000 0.000000 0.000000 0.000000 0.000000 0.000000 0.000000 0.000000 0.000000 0.000000 0.000000 0.000000 0.000000'\n",
    "a = a.split(' ')\n",
    "b = ['0 0.273953 0.859979 0.111750 0.280042 0.256250 0.750000 2.000000 0.259375 0.741667 2.000000 0.000000 0.000000 0.000000 0.271875 0.739583 2.000000 0.000000 0.000000 0.000000 0.276562 0.768750 2.000000 0.304688 0.764583 1.000000 0.259375 0.833333 2.000000 0.000000 0.000000 0.000000 0.240625 0.877083 2.000000 0.000000 0.000000 0.000000 0.289062 0.885417 2.000000 0.317188 0.885417 2.000000 0.282813 0.975000 2.000000 0.000000 0.000000 0.000000 0.000000 0.000000 0.000000 0.000000 0.000000 0.000000',\n",
    "'0 0.392078 0.763167 0.044344 0.166083 0.000000 0.000000 0.000000 0.000000 0.000000 0.000000 0.000000 0.000000 0.000000 0.395313 0.691667 2.000000 0.000000 0.000000 0.000000 0.381250 0.708333 2.000000 0.404687 0.716667 2.000000 0.376563 0.733333 2.000000 0.409375 0.743750 2.000000 0.379688 0.750000 2.000000 0.410938 0.772917 1.000000 0.384375 0.762500 2.000000 0.400000 0.764583 2.000000 0.382812 0.797917 2.000000 0.400000 0.795833 2.000000 0.378125 0.831250 2.000000 0.398438 0.831250 2.000000',\n",
    "'0 0.475633 0.782583 0.051797 0.160417 0.000000 0.000000 0.000000 0.000000 0.000000 0.000000 0.000000 0.000000 0.000000 0.000000 0.000000 0.000000 0.000000 0.000000 0.000000 0.459375 0.735417 2.000000 0.481250 0.731250 2.000000 0.454688 0.760417 2.000000 0.492188 0.750000 2.000000 0.451562 0.777083 2.000000 0.000000 0.000000 0.000000 0.465625 0.777083 2.000000 0.481250 0.772917 2.000000 0.470313 0.814583 2.000000 0.485938 0.812500 2.000000 0.473438 0.850000 2.000000 0.492188 0.847917 2.000000',\n",
    "'0 0.510633 0.774021 0.031516 0.155833 0.504687 0.708333 2.000000 0.509375 0.706250 2.000000 0.506250 0.704167 2.000000 0.517188 0.708333 2.000000 0.000000 0.000000 0.000000 0.518750 0.727083 2.000000 0.509375 0.725000 2.000000 0.518750 0.754167 2.000000 0.000000 0.000000 0.000000 0.504687 0.743750 2.000000 0.000000 0.000000 0.000000 0.514062 0.775000 2.000000 0.501563 0.772917 2.000000 0.510938 0.810417 2.000000 0.501563 0.808333 2.000000 0.512500 0.841667 2.000000 0.504687 0.839583 2.000000'\n",
    "]\n",
    "b = b[0].split(' ')\n"
   ]
  },
  {
   "cell_type": "code",
   "execution_count": null,
   "metadata": {},
   "outputs": [],
   "source": [
    "root = Path(r'D:\\yesy\\TEA\\tea_data')\n",
    "        \n",
    "txt_root = root / 'segmentation'\n",
    "jeg_root = root / 'image'\n",
    "seg_root = root / 'label'\n",
    "txt_list = [path for path in txt_root.iterdir()]\n",
    "\n",
    "for txt_path in txt_list:\n",
    "    if txt_path.stem != 'trainval':\n",
    "        # new_path = root / txt_path.stem\n",
    "        # if not new_path.exists():\n",
    "        #     new_path.mkdir()\n",
    "        f = open(txt_path, 'r')\n",
    "        name_list = f.readlines()\n",
    "        for name in name_list:\n",
    "            name = name[:-1]\n",
    "            new_img_path = root / 'images' / txt_path.stem\n",
    "            new_seg_path = root / 'labels' / txt_path.stem\n",
    "            if not new_img_path.exists():\n",
    "                new_img_path.mkdir(parents=True)\n",
    "            if not new_seg_path.exists():\n",
    "                new_seg_path.mkdir(parents=True)\n",
    "            jeg_path = jeg_root / (name + '.jpg')\n",
    "            seg_path = seg_root / (name + '.png')\n",
    "            shutil.copy(str(jeg_path),str(new_img_path))\n",
    "            shutil.copy(str(seg_path),str(new_seg_path))"
   ]
  }
 ],
 "metadata": {
  "interpreter": {
   "hash": "358f92a35a8116bdf89bd945bf9153f3451a570630a765353f3236e90f29e585"
  },
  "kernelspec": {
   "display_name": "Python 3.7.13 ('npy37')",
   "language": "python",
   "name": "python3"
  },
  "language_info": {
   "codemirror_mode": {
    "name": "ipython",
    "version": 3
   },
   "file_extension": ".py",
   "mimetype": "text/x-python",
   "name": "python",
   "nbconvert_exporter": "python",
   "pygments_lexer": "ipython3",
   "version": "3.7.13"
  },
  "orig_nbformat": 4
 },
 "nbformat": 4,
 "nbformat_minor": 2
}
