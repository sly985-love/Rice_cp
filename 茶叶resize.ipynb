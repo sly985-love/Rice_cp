{
 "cells": [
  {
   "cell_type": "code",
   "execution_count": 2,
   "metadata": {},
   "outputs": [],
   "source": [
    "from pathlib import Path\n",
    "from PIL import Image \n"
   ]
  },
  {
   "cell_type": "code",
   "execution_count": 3,
   "metadata": {},
   "outputs": [],
   "source": [
    "# path_root = Path('D:\\Program\\python\\\\tea\\yolov5-master\\VOCdevkit')\n",
    "path_root = Path('E:\\data\\\\voc_tea')\n",
    "path_imgs = path_root / 'images_old'\n",
    "path_new = path_root / 'images_2560'\n",
    "need = 2560\n",
    "if not path_imgs.exists():\n",
    "    path_imgs.mkdir()\n",
    "\n",
    "if not path_new.exists():\n",
    "    path_new.mkdir()\n",
    "\n",
    "list_path = [path for path in path_imgs.iterdir()]\n",
    "\n",
    "for path_img in list_path:\n",
    "    sta = path_img.stem\n",
    "\n",
    "    if not (path_new / sta).exists():\n",
    "        (path_new / sta).mkdir()\n",
    "\n",
    "    list_img = [path for path in path_img.iterdir()]\n",
    "\n",
    "    for imagep in list_img:\n",
    "        name = imagep.stem\n",
    "        img = Image.open(imagep)\n",
    "        w, h = img.size\n",
    "        wn, hn = w//need, h//need\n",
    "        iw = min(wn, hn)\n",
    "        img_new = img.resize((w//iw, h//iw))\n",
    "        new_path = path_new / sta / (name + '.JPG')\n",
    "        img_new.save(new_path)"
   ]
  },
  {
   "cell_type": "code",
   "execution_count": 2,
   "metadata": {},
   "outputs": [],
   "source": [
    "# root = Path('D:\\yesy\\新数据集\\\\new-ori\\\\new-youfu\\save\\Segmentation')\n",
    "old_txt = open(r'E:\\data\\ricedata_v3.0\\ori\\save\\Segmentation\\val.txt',mode='r')\n",
    "# oldval_txt = open('D:\\yesy\\新数据集\\\\new-ori\\\\new-youfu\\Segmentation\\\\trainval.txt',mode='r')\n",
    "# oldv_txt = open('D:\\yesy\\新数据集\\\\new-ori\\\\new-youfu\\Segmentation\\\\trainval.txt',mode='r')\n",
    "\n",
    "new_txt = open(r'E:\\data\\ricedata_v3.0\\ori\\save\\Segmentation\\newval.txt',mode='w')\n",
    "# newval_txt = open('D:\\yesy\\新数据集\\\\new-ori\\\\new-youfu\\save\\Segmentation\\\\trainval.txt',mode='w')\n",
    "# newv_txt = open('D:\\yesy\\新数据集\\\\new-ori\\\\new-youfu\\save\\Segmentation\\\\val.txt',mode='w')\n",
    "old = old_txt.readlines()\n",
    "# oldval = oldval_txt.readlines()\n",
    "# oldv = oldv_txt.readlines()\n",
    "# new_list = []\n",
    "# newval_list = []\n",
    "# newv_list = []\n",
    "# for one in old:\n",
    "#     for i in range(1, 11):\n",
    "#         new_one = one.strip('\\n') + '_' + str(i) + '\\n'\n",
    "#         new_list.append(new_one)\n",
    "# new_txt.writelines(new_list)\n",
    "# for oneval in oldval:\n",
    "#     for i in range(1, 11):\n",
    "#         new_oneval = oneval.strip('\\n') + '_' + str(i) + '\\n'\n",
    "#         newval_list.append(new_oneval)\n",
    "# newval_txt.writelines(newval_list)\n",
    "# for onev in oldv:\n",
    "#     for i in range(1, 11):\n",
    "#         new_onev = onev.strip('\\n') + '_' + str(i) + '\\n'\n",
    "#         newv_list.append(new_onev)\n",
    "# newv_txt.writelines(newv_list)"
   ]
  },
  {
   "cell_type": "code",
   "execution_count": 4,
   "metadata": {},
   "outputs": [
    {
     "data": {
      "text/plain": [
       "<function TextIOWrapper.close()>"
      ]
     },
     "execution_count": 4,
     "metadata": {},
     "output_type": "execute_result"
    }
   ],
   "source": [
    "new_list = []\n",
    "for one in old:\n",
    "    new_list.append(one)\n",
    "    for i in range(1, 3):\n",
    "        new_one = one.strip('\\n') + '_' + str(i) + '\\n'\n",
    "        new_list.append(new_one)\n",
    "new_txt.writelines(new_list)"
   ]
  },
  {
   "cell_type": "code",
   "execution_count": null,
   "metadata": {},
   "outputs": [],
   "source": [
    "\n",
    "new_txt.close"
   ]
  },
  {
   "cell_type": "code",
   "execution_count": 1,
   "metadata": {},
   "outputs": [],
   "source": [
    "new_txt = open('D:\\yesy\\新数据集\\\\new-ori\\\\new-wufu\\save\\Segmentation\\\\trainval.txt',mode='r')\n",
    "new = new_txt.readlines()"
   ]
  },
  {
   "cell_type": "code",
   "execution_count": null,
   "metadata": {},
   "outputs": [],
   "source": [
    "0 \n",
    "0.671279 \n",
    "0.617945 \n",
    "0.645759 \n",
    "0.726859 \n",
    "\n",
    "0.519751 \n",
    "0.381250 \n",
    "2.000000 \n",
    "\n",
    "0.550936 \n",
    "0.348438 \n",
    "2.000000 \n",
    "\n",
    "0.488565 \n",
    "0.367188 \n",
    "2.000000\n",
    "\n",
    "0.642412 \n",
    "0.354687\n",
    "2.000000\n",
    "\n",
    "0.488565 \n",
    "0.395313\n",
    "2.000000 \n",
    "\n",
    "0.738046\n",
    "0.526563 \n",
    "2.000000 \n",
    "\n",
    "0.446985\n",
    "0.534375 \n",
    "2.000000 \n",
    "\n",
    "0.846154\n",
    "0.771875 \n",
    "2.000000\n",
    "\n",
    "0.442827\n",
    "0.812500\n",
    "2.000000\n",
    "\n",
    "0.925156\n",
    "0.964063 \n",
    "2.000000 \n",
    "\n",
    "0.507277\n",
    "0.698438\n",
    "2.000000 \n",
    "\n",
    "0.702703 \n",
    "0.942187 \n",
    "2.000000 \n",
    "\n",
    "0.555094 \n",
    "0.950000 \n",
    "2.000000\n",
    "\n",
    "0.000000 \n",
    "0.000000 \n",
    "0.000000\n",
    "\n",
    "0.000000 \n",
    "0.000000 \n",
    "0.000000\n",
    "\n",
    "0.000000 \n",
    "0.000000\n",
    "0.000000 \n",
    "\n",
    "0.000000\n",
    "0.000000 \n",
    "0.000000\n"
   ]
  }
 ],
 "metadata": {
  "interpreter": {
   "hash": "358f92a35a8116bdf89bd945bf9153f3451a570630a765353f3236e90f29e585"
  },
  "kernelspec": {
   "display_name": "Python 3.7.13 ('npy37')",
   "language": "python",
   "name": "python3"
  },
  "language_info": {
   "codemirror_mode": {
    "name": "ipython",
    "version": 3
   },
   "file_extension": ".py",
   "mimetype": "text/x-python",
   "name": "python",
   "nbconvert_exporter": "python",
   "pygments_lexer": "ipython3",
   "version": "3.7.13"
  },
  "orig_nbformat": 4
 },
 "nbformat": 4,
 "nbformat_minor": 2
}
