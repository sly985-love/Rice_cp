{
 "cells": [
  {
   "cell_type": "code",
   "execution_count": null,
   "metadata": {},
   "outputs": [],
   "source": [
    "import torch\n",
    "from torchsummary import summary\n",
    "model_path = ''\n",
    "checkpoint = torch.load()\n",
    "model = \n",
    "model.load_state_dict()\n",
    "model.to('cuda')\n",
    "summary(model,())\n"
   ]
  },
  {
   "cell_type": "code",
   "execution_count": null,
   "metadata": {},
   "outputs": [],
   "source": [
    "import torch\n",
    "from torchstat import stat\n",
    "\n",
    "model_path = \"E:\\data\\\\lastest.pth\"\n",
    "checkpoint = torch.load(model_path)\n",
    "model = "
   ]
  }
 ],
 "metadata": {
  "language_info": {
   "name": "python"
  },
  "orig_nbformat": 4
 },
 "nbformat": 4,
 "nbformat_minor": 2
}
